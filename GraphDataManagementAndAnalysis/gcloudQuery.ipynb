{
 "cells": [
  {
   "cell_type": "code",
   "execution_count": null,
   "id": "abd7e30e",
   "metadata": {},
   "outputs": [],
   "source": [
    "# import\n",
    "import requests\n",
    "import json\n",
    "\n",
    "# default variables\n",
    "dbName = \"j1\"\n",
    "url = \"http://cloud.gstore.cn/api\"\n",
    "key = \"===\"\n",
    "secret = \"===\"\n",
    "headers = {\n",
    "    'Content-Type': \"application/json\",\n",
    "}\n",
    "params = {\n",
    "    'accesskeyid': key,\n",
    "    'access_secret': secret\n",
    "}\n"
   ]
  },
  {
   "cell_type": "code",
   "execution_count": null,
   "id": "6c249af7",
   "metadata": {},
   "outputs": [],
   "source": [
    "# tools\n",
    "def showDB():\n",
    "    p = params\n",
    "    params['action'] = \"showDB\"\n",
    "    response = requests.request(method=\"POST\", url=url, json=p, verify=False)\n",
    "    result_json = response.json()\n",
    "    print(result_json['list'])\n",
    "def wrap(name):\n",
    "    return \"<file:///F:/d2r-server-0.7/holder8.nt#holder_copy/\"+name+\">\"\n",
    "def unwrap(name):\n",
    "    prefix = \"file:///F:/d2r-server-0.7/holder8.nt#holder_copy/\"\n",
    "    return name.replace(prefix, \"\")"
   ]
  },
  {
   "cell_type": "code",
   "execution_count": null,
   "id": "42e40320",
   "metadata": {},
   "outputs": [],
   "source": [
    "# 查询两个公司之间的关联路径（2-hop）\n",
    "# 例如输入公司“招商局轮船股份有限公司”和“招商银行股份有限公司”，得到这两家公司之间的所有路径。\n",
    "def two_hop_path(A, B):\n",
    "    p = params\n",
    "    p['action'] = \"queryDB\"\n",
    "    p['dbName'] = dbName\n",
    "    sql_str = \"SELECT ?z ?h WHERE { \"\\\n",
    "        + \"{\" + wrap(A) + \"  <http://localhost:2020/vocab/resource/holder_copy_holder_name>\t ?z . ?z  <http://localhost:2020/vocab/resource/holder_copy_holder_name>\t \" + wrap(B) + \".}\" \\\n",
    "        + \" UNION \" \\\n",
    "        + \"{\" + wrap(A) + \" ?h \" + wrap(B) + \".}\" \\\n",
    "        + \" }\"\n",
    "    p['sparql'] = sql_str\n",
    "    response = requests.post(url=url, json=p, verify=False)\n",
    "    result_json = response.json()\n",
    "    res = result_json['data']['results']['bindings']\n",
    "    for i in res:\n",
    "        if 'z' in i:\n",
    "            print(A+\" -> \"+unwrap(i['z']['value'])+\" -> \"+B)\n",
    "        if 'h' in i:\n",
    "            print(A+\" -> \"+B)\n",
    "def task1_two_hop_path(A, B):\n",
    "    two_hop_path(A, B)\n",
    "    two_hop_path(B, A)\n"
   ]
  },
  {
   "cell_type": "code",
   "execution_count": null,
   "id": "1d37b2e0",
   "metadata": {},
   "outputs": [],
   "source": [
    "# 多层股权的穿透式查询，可以根据指定层数获得对应层级的股东\n",
    "# 例如：输入“招商局轮船股份有限公司””和层数3，就会把“招商局轮船股份有限公司”所对应公司所有三层以内的公司找出来。\n",
    "def n_layer_who_hold_me(N, name):\n",
    "    p = params\n",
    "    p['action'] = \"queryDB\"\n",
    "    p['dbName'] = dbName\n",
    "    sql_str_start = \"SELECT * WHERE { \"\n",
    "    sql_str_end = \" }\"\n",
    "    sql_str_body = \"\"\n",
    "    if (N == 1):\n",
    "        sql_str_body = \"{?a  <http://localhost:2020/vocab/resource/holder_copy_holder_name>\t \" + wrap(name) + \".}\"\n",
    "    else:\n",
    "        sql_str_body = \"{?a  <http://localhost:2020/vocab/resource/holder_copy_holder_name>\t ?b1. \"\n",
    "        for i in range(2, N):\n",
    "            sql_str_body += \" ?b\" + str(i-1) + \"  <http://localhost:2020/vocab/resource/holder_copy_holder_name>\t ?b\" + str(i) + \". \"\n",
    "        sql_str_body += \" ?b\" + str(N-1) + \"  <http://localhost:2020/vocab/resource/holder_copy_holder_name>\t \" + wrap(name) + \".}\"\n",
    "    sql_str = sql_str_start + sql_str_body + sql_str_end\n",
    "    p['sparql'] = sql_str\n",
    "    response = requests.post(url=url, json=p, verify=False)\n",
    "    result_json = response.json()\n",
    "    res = result_json['data']['results']['bindings']\n",
    "    s = set()\n",
    "    for i in res:\n",
    "        if 'a' in i:\n",
    "            s.add(unwrap(i['a']['value']))\n",
    "    for i in s:\n",
    "        print(i)\n",
    "\n",
    "def task_2_n_layer_who_hold_me(N, name):\n",
    "    for i in range(1, N+1):\n",
    "        print(\"第\" + str(i) + \"层股东：\")\n",
    "        n_layer_who_hold_me(i, name)\n",
    "        print(\"\\n\")"
   ]
  },
  {
   "cell_type": "code",
   "execution_count": null,
   "id": "a99aaa59",
   "metadata": {},
   "outputs": [],
   "source": [
    "# 环形持股查询，判断两家公司是否存在环形持股现象，环形持股是指两家公司彼此持有对方的股份。\n",
    "# 例如：输入“A”和“C”，判断两家公司是否存在环形持股。\n",
    "def n_hop(N, A, B):\n",
    "    p = params\n",
    "    p['action'] = \"queryDB\"\n",
    "    p['dbName'] = dbName\n",
    "    sql_str_start = \"SELECT * WHERE { \"\n",
    "    sql_str_end = \" }\"\n",
    "    sql_str_body = \"\"\n",
    "    if (N == 1):\n",
    "        sql_str_body = \"{\"+wrap(A)+\"  <http://localhost:2020/vocab/resource/holder_copy_holder_name>\t \" + wrap(B) + \".}\"\n",
    "    else:\n",
    "        sql_str_body = \"{\"+wrap(A)+\" <http://localhost:2020/vocab/resource/holder_copy_holder_name>\t ?b1. \"\n",
    "        for i in range(2, N):\n",
    "            sql_str_body += \" ?b\" + str(i-1) + \"  <http://localhost:2020/vocab/resource/holder_copy_holder_name>  ?b\" + str(i) + \". \"\n",
    "        sql_str_body += \" ?b\" + str(N-1) + \"  <http://localhost:2020/vocab/resource/holder_copy_holder_name>\t \" + wrap(B) + \".}\"\n",
    "    sql_str = sql_str_start + sql_str_body + sql_str_end\n",
    "    p['sparql'] = sql_str\n",
    "    response = requests.post(url=url, json=p, verify=False)\n",
    "    result_json = response.json()\n",
    "    res = result_json['data']['results']['bindings']\n",
    "    if len(res) > 0:\n",
    "        return True\n",
    "    else:\n",
    "        return False\n",
    "\n",
    "def task3_ring(A, B):\n",
    "    flag_a2b = False\n",
    "    flag_b2a = False\n",
    "    for i in range(1, 6):\n",
    "        if n_hop(i, A, B):\n",
    "            flag_a2b = True\n",
    "            break\n",
    "    for i in range(1, 6):\n",
    "        if n_hop(i, B, A):\n",
    "            flag_b2a = True\n",
    "            break\n",
    "        \n",
    "    if flag_a2b and flag_b2a:\n",
    "        print(\"存在环形持股\")\n",
    "    else:\n",
    "        print(\"不存在环形持股\")\n"
   ]
  },
  {
   "cell_type": "code",
   "execution_count": null,
   "id": "cddd618a",
   "metadata": {},
   "outputs": [],
   "source": [
    "# test connection\n",
    "showDB()"
   ]
  },
  {
   "cell_type": "code",
   "execution_count": null,
   "id": "903508e1",
   "metadata": {},
   "outputs": [],
   "source": [
    "# task1\n",
    "task1_two_hop_path(\"招商局轮船股份有限公司\", \"招商银行股份有限公司\")"
   ]
  },
  {
   "cell_type": "code",
   "execution_count": null,
   "id": "5b203a5f",
   "metadata": {},
   "outputs": [],
   "source": [
    "# task2\n",
    "task_2_n_layer_who_hold_me(3, \"招商局轮船股份有限公司\")\n",
    "task_2_n_layer_who_hold_me(2, \"安邦人寿保险股份有限公司\")\n"
   ]
  },
  {
   "cell_type": "code",
   "execution_count": null,
   "id": "4c5fa2e0",
   "metadata": {},
   "outputs": [],
   "source": [
    "# task3\n",
    "task3_ring(\"A\", \"C\")\n",
    "task3_ring(\"A\", \"E\")"
   ]
  }
 ],
 "metadata": {
  "kernelspec": {
   "display_name": "Python 3 (ipykernel)",
   "language": "python",
   "name": "python3"
  },
  "language_info": {
   "codemirror_mode": {
    "name": "ipython",
    "version": 3
   },
   "file_extension": ".py",
   "mimetype": "text/x-python",
   "name": "python",
   "nbconvert_exporter": "python",
   "pygments_lexer": "ipython3",
   "version": "3.10.12"
  }
 },
 "nbformat": 4,
 "nbformat_minor": 5
}
